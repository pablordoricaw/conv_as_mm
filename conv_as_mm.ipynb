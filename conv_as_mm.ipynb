{
  "cells": [
    {
      "cell_type": "markdown",
      "metadata": {
        "id": "EPPORKHetvh8"
      },
      "source": [
        "# Convolution as Matrix Multiplication\n"
      ]
    },
    {
      "cell_type": "markdown",
      "source": [
        "## What is the purpose?\n",
        "\n",
        "Instead of using `for-loops` to perform 2D convolution on images (or any other 2D matrices) we can convert the filter to a `Toeplitz matrix` and image to a vector and do the convolution just by one `matrix multiplication` (and of course some post-processing on the result of this multiplication to get the final result)\n",
        "\n"
      ],
      "metadata": {
        "id": "ta-ijuEfx1KI"
      }
    },
    {
      "cell_type": "markdown",
      "source": [
        "## Why do we do that?\n",
        "\n",
        "There are many efficient matrix multiplication algorithms, so using them we can have an efficient implementation of convolution operation."
      ],
      "metadata": {
        "id": "9NVYK1zXx6p7"
      }
    },
    {
      "cell_type": "markdown",
      "source": [
        "## What is in this document?\n",
        "\n",
        "Mathematical and algorithmic explanation of this process. I will put a naive Python implementation of this algorithm to make it more clear.<br>\n",
        "Let's start with some definition and basic operation:"
      ],
      "metadata": {
        "id": "R8NJCnfwx_nh"
      }
    },
    {
      "cell_type": "markdown",
      "source": [
        "## What is a Toeplitz matrix?\n",
        "Toeplitz matrix is a matrix in which each values along the main diagonal and sub diagonals are constant. Matrix $G$ is an example:\n",
        "\n",
        "$$\\begin{pmatrix}\n",
        "\t2 & -1 & 0 & \\cdots & \\cdots & \\cdots & \\cdots & 1\\\\\n",
        "\t5 & 2 & -1 & 0 & & & & \\vdots\\\\\n",
        "\t-8 & 5 & 2 & -1 & \\ddots & & & \\vdots\\\\\n",
        "\t\\vdots & -8 & \\ddots & \\ddots & \\ddots & \\ddots & & \\vdots\\\\\n",
        "\t\\vdots & & \\ddots & \\ddots & \\ddots & \\ddots & 0 & \\vdots\\\\\n",
        "\t\\vdots & & & \\ddots & 5 & 2 & -1 & 0\\\\\n",
        "\t\\vdots & & & & -8 & 5 & 2 & -1\\\\\n",
        "\t1 & \\cdots & \\cdots  & \\cdots & \\cdots & -8 & 5 & 2\\\\\n",
        "\t\\end{pmatrix}$$\n",
        "    \n",
        "In a $N \\times N$ matrix, its elements are determined by a ($2N -1$) length sequence\n",
        "\t $$\\{t_n | -(N-1) \\le n \\le (N-1)\\}$$\n",
        "\n",
        "So given a sequence $t_n$ we can create a Toeplitz matrix by following these steps:    \n",
        " - put the sequence in the first column of the matrix.\n",
        " - shift it and put it in the next column. When shifting, the last element disappears and a new element of the sequence appears. If there is no such an element, put zero in that location.\n",
        "\n",
        "specifically: $T(m,n)=t_{m-n}$\n",
        "\n",
        "$$\\begin{pmatrix}\n",
        "\tt_0 & t_{-1} & t_{-2} & \\cdots & \\cdots & \\cdots & \\cdots & t_{-(N-1)}\\\\\n",
        "\tt_1 & t_0 & t_{-1} & t_{-2} & & & & \\vdots\\\\\n",
        "\tt_2 & t_1 & t_0 & t_{-1} & \\ddots & & & \\vdots\\\\\n",
        "\t\\vdots & t_2 & \\ddots & \\ddots & \\ddots & \\ddots & & \\vdots\\\\\n",
        "\t\\vdots & & \\ddots & \\ddots & \\ddots & \\ddots & t_{-2} & \\vdots\\\\\n",
        "\t\\vdots & & & \\ddots & t_1 & t_0 & t_{-1} & t_{-2}\\\\\n",
        "\t\\vdots & & & & t_2 & t_1 & t_0 & t_{-1}\\\\\n",
        "\tt_{(N-1)} & \\cdots & \\cdots  & \\cdots & \\cdots & t_2 & t_1 & t_0\\\\\n",
        "\t\\end{pmatrix}$$\n",
        "\n",
        "Be aware that when we are working with sequences that are defined just for $n \\ge 0$ values for $t_n$ when $n \\le 0$ should be considered as $0$. For example $4 \\times 4$ Toeplitz matrix for the sequence $f[n]=[1,2,3]$ will be:\n",
        "\n",
        "$$\\begin{pmatrix}\n",
        "\t1 & 0 & 0 & 0\\\\\n",
        "\t2 & 1 & 0 & 0\\\\\n",
        "\t3 & 2 & 1 & 0\\\\\n",
        "\t0 & 3 & 2 & 1 \\\\\n",
        "\t\\end{pmatrix}$$\n",
        "    \n",
        "<a id=\"doubly_blocked\"></a>"
      ],
      "metadata": {
        "id": "ZqDEt3HryQQu"
      }
    },
    {
      "cell_type": "markdown",
      "source": [
        "## One more definition: Doubly Blocked Toeplitz matrix\n",
        "In the matrix $A$, all $A_{ij}$ are matrices. If the structure of $A$, with respects to its sub-matrices is Toeplitz, then matrix $A$ is called \\textbf{Block-Toeplitz}.\n",
        "\n",
        "$$\\begin{pmatrix}\n",
        "\tA_{11} & A_{12} & \\cdots & A_{1N}\\\\\n",
        "\tA_{21} & A_{22} & \\cdots & A_{2N}\\\\\n",
        "\t\\vdots & \\vdots & \\vdots & \\vdots \\\\\n",
        "\tA_{M1} & A_{M2} & \\cdots & A_{MN}\\\\\n",
        "\t\\end{pmatrix}$$\n",
        "\n",
        "If each individual $A{ij}$ also is a Toeplitz matrix then $A$ is called \\textbf{Doubly Blocked Toeplitz}"
      ],
      "metadata": {
        "id": "twv_24DSyHun"
      }
    },
    {
      "cell_type": "markdown",
      "source": [
        "## Is this Convolution or Cross Correlation?\n",
        "\n",
        "Most of the time, the word *convolution* in the deep learning literature is used instead of *cross-correlation*, but here I am explaining the process for convolution as is known in the signal processing community. Simply, for convolution we need to flip the filter (kernel) in both vertical and horizontal directions, but for cross-correlation we don't.\n",
        "\n",
        "The method explained here performs the convolution (not correlation). Because of the way it is implemented here, there is no need to flip the filter, but if you are doing an example by hand and want to compare the results with the implemented method, remember to consider the flipping step in your calculation."
      ],
      "metadata": {
        "id": "HqVn6JEnyDIQ"
      }
    },
    {
      "cell_type": "markdown",
      "metadata": {
        "id": "5yMFiKfLtvh9"
      },
      "source": [
        "## Step by Step\n",
        "\n",
        "Let's explain the algorithm step by step using an example. Codes are written in python and the numpy library is used all over the code.\n",
        "\n",
        "**Note:** Remember that convolution is a commutative operation, so it does not change the output if we switch the inputs for this operation. For simplicity, I will be calling one of the inputs *input* or `I` and the other *filter* or `F`\n",
        "\n",
        "### Input and Filter\n",
        "Input matrix that the filter will be convolved with it, is:\n",
        "\n",
        "$$I =\n",
        "\t\\begin{bmatrix}\n",
        "\t1 & 2 & 3 \\\\\n",
        "\t4 & 5 & 6 \\\\\n",
        "\t\\end{bmatrix}$$\n",
        "\n",
        "And let the filter be:\n",
        "\n",
        "$$F =\n",
        "\t\\begin{bmatrix}\n",
        "\t10 & 20 \\\\\n",
        "\t30 & 40 \\\\\n",
        "\t\\end{bmatrix}$$\n",
        "   "
      ]
    },
    {
      "cell_type": "code",
      "execution_count": 33,
      "metadata": {
        "id": "fSTFopmxtvh-",
        "outputId": "419b6bbd-2b53-4e89-f46e-5d21aa93750c",
        "colab": {
          "base_uri": "https://localhost:8080/"
        }
      },
      "outputs": [
        {
          "output_type": "stream",
          "name": "stdout",
          "text": [
            "I:  (2, 3)\n",
            "[[1 2 3]\n",
            " [4 5 6]]\n",
            "F:  (2, 2)\n",
            "[[10 20]\n",
            " [30 40]]\n"
          ]
        }
      ],
      "source": [
        "import numpy as np\n",
        "\n",
        "# input signal\n",
        "I = np.array([[1, 2, 3], [4, 5, 6]])\n",
        "print('I: ', I.shape)\n",
        "print(I)\n",
        "\n",
        " # filter\n",
        "F = np.array([[10, 20], [30, 40]])\n",
        "print('F: ',F.shape)\n",
        "print(F)"
      ]
    },
    {
      "cell_type": "markdown",
      "metadata": {
        "id": "DWePTiKltvh-"
      },
      "source": [
        "<a id=\"output-size\"></a>\n",
        "\n",
        "### Calculate the final output size\n",
        "If the input signal is $m_1 \\times n_1$ and filter is $m_2 \\times n_2$ the size of the convolution will be\n",
        "\n",
        "$$(m_1 + m_2 -1) \\times (n_1 + n_2 -1)$$\n",
        "\n",
        "This is the size of full discrete linear convolution. One might just use some part of the output based on the application. For example in deep learning literature you can use \"valid\" or \"same\" as your padding mode. In these case just parts of the full output is used.\n",
        "\n",
        "Proper zero padding should be done to get the correct output. Zero padding is the next step.  "
      ]
    },
    {
      "cell_type": "code",
      "execution_count": 34,
      "metadata": {
        "id": "c81K3uChtvh-",
        "outputId": "e1766aab-fcdd-4e72-84e6-c6d5a295fed6",
        "colab": {
          "base_uri": "https://localhost:8080/"
        }
      },
      "outputs": [
        {
          "output_type": "stream",
          "name": "stdout",
          "text": [
            "output dimension: 3 4\n"
          ]
        }
      ],
      "source": [
        "# number columns and rows of the input\n",
        "I_row_num, I_col_num = I.shape\n",
        "\n",
        "# number of columns and rows of the filter\n",
        "F_row_num, F_col_num = F.shape\n",
        "\n",
        "#  calculate the output dimensions\n",
        "output_row_num = I_row_num + F_row_num - 1\n",
        "output_col_num = I_col_num + F_col_num - 1\n",
        "print('output dimension:', output_row_num, output_col_num)\n"
      ]
    },
    {
      "cell_type": "markdown",
      "metadata": {
        "id": "XOZ1QXGNtvh-"
      },
      "source": [
        "### Zero-pad the filter matrix\n",
        "The next step is to zero pad the filter to make it the same size as the output. Zeros should be added to the top and right sides of the filter.\n",
        "\n",
        "<img src=\"https://github.com/pablordoricaw/conv_as_mm/blob/main/images/3.png?raw=1\" alt=\"Zero padding\" title=\"Zero padded F\" width=\"300\"/>"
      ]
    },
    {
      "cell_type": "code",
      "execution_count": 35,
      "metadata": {
        "id": "Vkz-6yl6tvh_",
        "outputId": "a1a083b0-fcbf-424a-d95a-ff805d4e9a68",
        "colab": {
          "base_uri": "https://localhost:8080/"
        }
      },
      "outputs": [
        {
          "output_type": "stream",
          "name": "stdout",
          "text": [
            "F_zero_padded:\n",
            "[[10 20  0  0]\n",
            " [30 40  0  0]\n",
            " [ 0  0  0  0]]\n"
          ]
        }
      ],
      "source": [
        "# zero pad the filter\n",
        "F_zero_padded = np.pad(F, ((0, output_row_num - F_row_num),\n",
        "                           (0, output_col_num - F_col_num)),\n",
        "                        'constant', constant_values=0)\n",
        "print(f\"F_zero_padded:\\n{F_zero_padded}\")"
      ]
    },
    {
      "cell_type": "markdown",
      "metadata": {
        "id": "00-jD2CWtvh_"
      },
      "source": [
        "### Toeplitz matrix for each row of the zero-padded filter\n",
        "For each row of the zero-padded filter `F_zero_padded` create a Toeplitz matrix and store them in a list. Matrix created using the last row goes to the first cell of this list.\n",
        "\n",
        "<img src=\"https://github.com/pablordoricaw/conv_as_mm/blob/main/images/4.png?raw=1\" alt=\"Toeplitz matrix for each row of the zero-padded filter\" title=\"Toeplitz matrix for each row of the zero-padded filter\" width=\"500\"/>\n",
        "\n",
        "**Why these matrices have three columns? Why not two or 5? What is the rule here?**\n",
        "The important point is that the number of columns of these generated Toeplitz matrices should be same as the number of columns of the input (I) matrix.\n",
        "\n",
        "In the code, I am using `toeplitz()` function from `scipy.linalg library`. One row of the $F$ is passed to this function and the function puts it as the first column of the its output matrix. Then as it is explained before, this vector should be shifted down and be putted in the second column. For this function, in addition to the first column, we need to define the first row, otherwise, the output of the function would be different than what we expect here. The first element of this first row is same as the first element of the first column, and the rest of the elements should be set to zero. (I know that it doesn't make sense :D read it twice and look at the code)"
      ]
    },
    {
      "cell_type": "code",
      "execution_count": 36,
      "metadata": {
        "id": "0sHcZeqHtvh_",
        "outputId": "4f6f80e8-6d35-420c-e385-c24f78742673",
        "colab": {
          "base_uri": "https://localhost:8080/"
        }
      },
      "outputs": [
        {
          "output_type": "execute_result",
          "data": {
            "text/plain": [
              "[array([[10.,  0.,  0.],\n",
              "        [20., 10.,  0.],\n",
              "        [ 0., 20., 10.],\n",
              "        [ 0.,  0., 20.]]),\n",
              " array([[30.,  0.,  0.],\n",
              "        [40., 30.,  0.],\n",
              "        [ 0., 40., 30.],\n",
              "        [ 0.,  0., 40.]]),\n",
              " array([[0., 0., 0.],\n",
              "        [0., 0., 0.],\n",
              "        [0., 0., 0.],\n",
              "        [0., 0., 0.]])]"
            ]
          },
          "metadata": {},
          "execution_count": 36
        }
      ],
      "source": [
        "from scipy.linalg import toeplitz\n",
        "\n",
        "# use each row of the zero-padded F to creat a toeplitz matrix.\n",
        "#  Number of columns in this matrices are same as numbe of columns of input signal\n",
        "toeplitz_list = []\n",
        "for row in F_zero_padded: # iterate from last row to the first row\n",
        "    c = np.r_[row[0], np.zeros(I_col_num - 1)]\n",
        "    toeplitz_m = toeplitz(row, c) # this function is in scipy.linalg library\n",
        "    toeplitz_list.append(toeplitz_m)\n",
        "toeplitz_list"
      ]
    },
    {
      "cell_type": "markdown",
      "metadata": {
        "id": "lHDa-yJGtvh_"
      },
      "source": [
        "### Create doubly blocked toeplitz matrix\n",
        "Now all these small toeplitz matrices should be arranged in a big doubly blocked toepltiz matrix [as described in this section](#doubly_blocked).\n",
        "\n",
        "In this example $F_0, F_1, F_2$ are corresponding toeplitz matrices for each row of the filter. They should be filled in the doubly blocked toeplitz matrix in this way:\n",
        "\n",
        "$$doubly \\ blocked =\n",
        "\t\\begin{bmatrix}\n",
        "\tF_0 & 0 \\\\\n",
        "\tF_1 & F_0 \\\\\n",
        "\tF_2 & F_1 \\\\\n",
        "\t\\end{bmatrix}$$\n",
        "    \n",
        "Number of columns in this symbolic matrix should be same as the number of rows in the input signal I.\\\\\n",
        "\tThe following code stores the indexes of $F_0, F_1, F_2$ in this format. This will be used to fill out the doubly blocked toepltiz matrix later."
      ]
    },
    {
      "cell_type": "code",
      "execution_count": 37,
      "metadata": {
        "id": "3w9S_UU0tvh_",
        "outputId": "63e49224-8a97-4e9b-c35f-e4e99119ac2b",
        "colab": {
          "base_uri": "https://localhost:8080/"
        }
      },
      "outputs": [
        {
          "output_type": "stream",
          "name": "stdout",
          "text": [
            "doubly indices \n",
            " [[1 0]\n",
            " [2 1]\n",
            " [3 2]]\n"
          ]
        }
      ],
      "source": [
        "# doubly blocked toeplitz indices:\n",
        "#  this matrix defines which toeplitz matrix from toeplitz_list goes to which part of the doubly blocked\n",
        "c = range(1, F_zero_padded.shape[0]+1)\n",
        "r = np.r_[c[0], np.zeros(I_row_num-1, dtype=int)]\n",
        "doubly_indices = toeplitz(c, r)\n",
        "print('doubly indices \\n', doubly_indices)"
      ]
    },
    {
      "cell_type": "markdown",
      "metadata": {
        "id": "mBi_PhSctvh_"
      },
      "source": [
        "Now let's fill in the doubly blocked toepltiz matrix. Following code does this part:"
      ]
    },
    {
      "cell_type": "code",
      "execution_count": 38,
      "metadata": {
        "id": "ryTHZie-tvh_",
        "outputId": "cf3df793-365c-4ec5-b8bb-7b38f2067751",
        "colab": {
          "base_uri": "https://localhost:8080/"
        }
      },
      "outputs": [
        {
          "output_type": "stream",
          "name": "stdout",
          "text": [
            "doubly_blocked:\n",
            " [[10.  0.  0.  0.  0.  0.]\n",
            " [20. 10.  0.  0.  0.  0.]\n",
            " [ 0. 20. 10.  0.  0.  0.]\n",
            " [ 0.  0. 20.  0.  0.  0.]\n",
            " [30.  0.  0. 10.  0.  0.]\n",
            " [40. 30.  0. 20. 10.  0.]\n",
            " [ 0. 40. 30.  0. 20. 10.]\n",
            " [ 0.  0. 40.  0.  0. 20.]\n",
            " [ 0.  0.  0. 30.  0.  0.]\n",
            " [ 0.  0.  0. 40. 30.  0.]\n",
            " [ 0.  0.  0.  0. 40. 30.]\n",
            " [ 0.  0.  0.  0.  0. 40.]]\n"
          ]
        }
      ],
      "source": [
        "# create doubly blocked matrix with zero values\n",
        "toeplitz_shape = toeplitz_list[0].shape # shape of one toeplitz matrix\n",
        "h = toeplitz_shape[0]*doubly_indices.shape[0]\n",
        "w = toeplitz_shape[1]*doubly_indices.shape[1]\n",
        "doubly_blocked_shape = [h, w]\n",
        "doubly_blocked = np.zeros(doubly_blocked_shape)\n",
        "\n",
        "# tile toeplitz matrices for each row in the doubly blocked matrix\n",
        "b_h, b_w = toeplitz_shape # hight and withs of each block\n",
        "for i in range(doubly_indices.shape[0]):\n",
        "    for j in range(doubly_indices.shape[1]):\n",
        "        start_i = i * b_h\n",
        "        start_j = j * b_w\n",
        "        end_i = start_i + b_h\n",
        "        end_j = start_j + b_w\n",
        "        doubly_blocked[start_i: end_i, start_j:end_j] = toeplitz_list[doubly_indices[i,j]-1]\n",
        "\n",
        "print('doubly_blocked:\\n', doubly_blocked)"
      ]
    },
    {
      "cell_type": "markdown",
      "metadata": {
        "id": "0lWNsMp-tvh_"
      },
      "source": [
        "For this example the result will be the following matrix. I've colored parts of the matrix that is related to each of the small toeplitz matrices.\n",
        "\n",
        "<img src=\"https://github.com/pablordoricaw/conv_as_mm/blob/main/images/6.png?raw=1\" alt=\"doubly blocked toeplitz\" title=\"doubly blocked toeplitz matrix\" width=\"500\">"
      ]
    },
    {
      "cell_type": "markdown",
      "metadata": {
        "id": "b8yY0RuVtvh_"
      },
      "source": [
        "### Convert the input matrix to a vector\n",
        "Now that the filter has converted to a doubly blocked Toeplitz matrix, we just need to convert the input signal to a vector and multiply them.\n",
        "\n",
        "All the rows of the input should be transposed to a column vector and stacked on top of each other. The last row goes first!\n",
        "\n",
        "<img src=\"https://github.com/pablordoricaw/conv_as_mm/blob/main/images/7.png?raw=1\" alt=\"vectorized input\" title=\"vectorized input\" width=\"400\">\n",
        "\n",
        "The following function does the vectorization. I am sure that there are much simpler ways to do so, but for the purpose of explanation, this function is implemented in this way."
      ]
    },
    {
      "cell_type": "code",
      "execution_count": 39,
      "metadata": {
        "id": "JgEtgIs2tvh_",
        "outputId": "54ec0aba-c6bf-4647-8f2f-37dec708d56e",
        "colab": {
          "base_uri": "https://localhost:8080/"
        }
      },
      "outputs": [
        {
          "output_type": "stream",
          "name": "stdout",
          "text": [
            "vectorized_I:  [1 2 3 4 5 6]\n"
          ]
        }
      ],
      "source": [
        "# call the function\n",
        "vectorized_I = I.flatten()\n",
        "print('vectorized_I: ', vectorized_I)"
      ]
    },
    {
      "cell_type": "markdown",
      "metadata": {
        "id": "0nRpvhrXtvh_"
      },
      "source": [
        "### Multiply doubly blocked toeplitz matrix with vectorized input signal\n",
        "Do the matrix multiplication between these two matrices. In this example, the doubly blocked Toeplitz matrix is $ 12 \\times 6$ and the vectorized input is $6 \\times 1$ so the result of the multiplication is $12 \\times 1$."
      ]
    },
    {
      "cell_type": "code",
      "execution_count": 40,
      "metadata": {
        "id": "oilhKA92tvh_",
        "outputId": "8cb536d7-106a-4ecb-bf5e-5b76ee3220e5",
        "colab": {
          "base_uri": "https://localhost:8080/"
        }
      },
      "outputs": [
        {
          "output_type": "stream",
          "name": "stdout",
          "text": [
            "result_vector:  [ 10.  40.  70.  60.  70. 230. 330. 240. 120. 310. 380. 240.]\n"
          ]
        }
      ],
      "source": [
        "# get result of the convolution by matrix mupltiplication\n",
        "result_vector = np.matmul(doubly_blocked, vectorized_I)\n",
        "print('result_vector: ', result_vector)"
      ]
    },
    {
      "cell_type": "markdown",
      "metadata": {
        "id": "Eui8EbMatviA"
      },
      "source": [
        "### Last step: reshape the result to a matrix form\n",
        "From section [output_size](#output-size) we know that the output of the convolution should be $(m_1 + m_2 -1) \\times (n_1 + n_2 -1)$. First $(n_1 + n_2 -1)$ elements in the output vector form the last row of the final output and the second $(n_1 + n_2 -1)$ elements go to the second-to-last row of the output matrix. Repeat this process to form the final output matrix.\n",
        "\n",
        "In this example $n_1 = 3$ and $n_2 = 2$, so every 4 element goes to one row of the output matrix.\n",
        "\n",
        "<img src=\"https://github.com/pablordoricaw/conv_as_mm/blob/main/images/8.png?raw=1\" alt=\"reshape the output\" width=\"550\">\n",
        "\n",
        "Following function performs this step:"
      ]
    },
    {
      "cell_type": "code",
      "execution_count": 41,
      "metadata": {
        "id": "SbSFQWNYtviA",
        "outputId": "fe7c6dd1-2f68-42a9-f29d-c5f930591faa",
        "colab": {
          "base_uri": "https://localhost:8080/"
        }
      },
      "outputs": [
        {
          "output_type": "stream",
          "name": "stdout",
          "text": [
            "Result of implemented method: \n",
            " [[ 10.  40.  70.  60.]\n",
            " [ 70. 230. 330. 240.]\n",
            " [120. 310. 380. 240.]]\n"
          ]
        }
      ],
      "source": [
        "# reshape the raw rsult to desired matrix form\n",
        "out_shape = (output_row_num, output_col_num)\n",
        "my_output = np.reshape(result_vector, out_shape)\n",
        "\n",
        "print('Result of implemented method: \\n', my_output)"
      ]
    },
    {
      "cell_type": "markdown",
      "metadata": {
        "id": "8U0oczuhtviA"
      },
      "source": [
        "### Compare the result with other convolution methods\n",
        "We can compare the output of this method with `convolve2d()` function from the `scipy` library."
      ]
    },
    {
      "cell_type": "code",
      "execution_count": 42,
      "metadata": {
        "id": "zXBcREYQtviA",
        "outputId": "3778ac87-e092-4ddc-8107-06a59e3e74b3",
        "colab": {
          "base_uri": "https://localhost:8080/"
        }
      },
      "outputs": [
        {
          "output_type": "stream",
          "name": "stdout",
          "text": [
            "Result using signal processing library\n",
            " [[ 10  40  70  60]\n",
            " [ 70 230 330 240]\n",
            " [120 310 380 240]]\n"
          ]
        }
      ],
      "source": [
        "from scipy import signal\n",
        "\n",
        "lib_output = signal.convolve2d(I, F, \"full\")\n",
        "print('Result using signal processing library\\n', lib_output)\n",
        "\n",
        "assert(my_output.all() == lib_output.all())"
      ]
    },
    {
      "cell_type": "markdown",
      "metadata": {
        "id": "s_iC_-2ftviA"
      },
      "source": [
        "As you can see the result on the same I and F matrices is same as the result of the implemented method. The parameter \"full\" is passed to the `signal.convolve2d()` function to get the full convolution results."
      ]
    },
    {
      "cell_type": "markdown",
      "metadata": {
        "id": "48j9rWAUtviA"
      },
      "source": [
        "### Put everything together\n",
        "\n",
        "Lets put all the codes in one function and call it with different inputs"
      ]
    },
    {
      "cell_type": "code",
      "execution_count": 43,
      "metadata": {
        "id": "Ff4tRGrutviA"
      },
      "outputs": [],
      "source": [
        "def conv_as_mmult(I, F):\n",
        "    I_row_num, I_col_num = I.shape\n",
        "\n",
        "    F_row_num, F_col_num = F.shape\n",
        "\n",
        "    #  calculate the output dimensions\n",
        "    output_row_num = I_row_num + F_row_num - 1\n",
        "    output_col_num = I_col_num + F_col_num - 1\n",
        "\n",
        "    # zero pad the filter\n",
        "    F_zero_padded = np.pad(F, ((0, output_row_num - F_row_num),\n",
        "                               (0, output_col_num - F_col_num)),\n",
        "                                'constant', constant_values=0)\n",
        "\n",
        "    toeplitz_list = []\n",
        "    for row in F_zero_padded:\n",
        "        c = np.zeros(I_col_num)\n",
        "        c[0] = row[0]\n",
        "        toeplitz_m = toeplitz(row, c) # this function is in scipy.linalg library\n",
        "        toeplitz_list.append(toeplitz_m)\n",
        "\n",
        "    # doubly blocked toeplitz indices:\n",
        "    # this matrix defines which toeplitz matrix from toeplitz_list goes to which\n",
        "    # part of the doubly blocked\n",
        "    c = range(1, F_zero_padded.shape[0] + 1)\n",
        "    r = np.r_[c[0], np.zeros(I_row_num - 1, dtype=int)]\n",
        "    doubly_indices = toeplitz(c, r)\n",
        "\n",
        "    # create doubly blocked matrix with zero values\n",
        "    toeplitz_shape = toeplitz_list[0].shape # shape of one Toeplitz matrix\n",
        "    h = toeplitz_shape[0]*doubly_indices.shape[0]\n",
        "    w = toeplitz_shape[1]*doubly_indices.shape[1]\n",
        "    doubly_blocked_shape = [h, w]\n",
        "    doubly_blocked = np.zeros(doubly_blocked_shape)\n",
        "\n",
        "    # tile toeplitz matrices for each row in the doubly blocked matrix\n",
        "    b_h, b_w = toeplitz_shape # height and widths of each block\n",
        "    for i in range(doubly_indices.shape[0]):\n",
        "        for j in range(doubly_indices.shape[1]):\n",
        "            start_i = i * b_h\n",
        "            start_j = j * b_w\n",
        "            end_i = start_i + b_h\n",
        "            end_j = start_j + b_w\n",
        "            doubly_blocked[start_i: end_i, start_j:end_j] = toeplitz_list[doubly_indices[i,j]-1]\n",
        "\n",
        "    vectorized_I = I.flatten()\n",
        "    result_vector = np.matmul(doubly_blocked, vectorized_I)\n",
        "    return np.reshape(result_vector, (output_row_num, output_col_num))"
      ]
    },
    {
      "cell_type": "markdown",
      "metadata": {
        "id": "7fmayQDjtviA"
      },
      "source": [
        "### Test on bigger examples\n",
        "\n",
        "Now lets test with bigger input and filter matrices and compare out results with results from singla processing function"
      ]
    },
    {
      "cell_type": "code",
      "execution_count": 44,
      "metadata": {
        "id": "PMrjRstotviA"
      },
      "outputs": [],
      "source": [
        "# test on different examples\n",
        "\n",
        "# fill I an F with random numbers\n",
        "I = np.random.randn(10, 13)\n",
        "F = np.random.randn(30, 70)\n",
        "\n",
        "my_result = conv_as_mmult(I, F)\n",
        "\n",
        "lib_result = signal.convolve2d(I, F, mode=\"full\")\n",
        "\n",
        "assert(my_result.all() == lib_result.all())"
      ]
    },
    {
      "cell_type": "markdown",
      "source": [
        "# Cross-Correlation as Matrix Multiplication\n",
        "\n",
        "Since cross-correlation is the same operation as convolution where the only difference is the filtered is flipped.\n",
        "\n",
        "We can use the `conv_as_mm()` function to compute cross-correlation by performing a horizontal and vertical flip on the filter before passing it on to the function."
      ],
      "metadata": {
        "id": "SREW8zopvrkr"
      }
    },
    {
      "cell_type": "code",
      "source": [
        "# fill I an F with random numbers\n",
        "# input signal\n",
        "I = np.array([[1, 2, 3], [4, 5, 6]])\n",
        "print('I: ', I.shape)\n",
        "print(I)\n",
        "print()\n",
        "\n",
        " # filter\n",
        "F = np.array([[10, 20], [30, 40]])\n",
        "F_flipped = np.flip(F)\n",
        "print('F_flipped: ', F_flipped.shape)\n",
        "print(F_flipped)\n",
        "\n",
        "print()\n",
        "\n",
        "my_result = conv_as_mmult(I, F_flipped)\n",
        "print('Result of implemented method: \\n', my_result)\n",
        "print()\n",
        "\n",
        "lib_result = signal.correlate2d(I, F, mode=\"full\")\n",
        "print('Result using signal processing library\\n', lib_result)\n",
        "\n",
        "assert(my_result.all() == lib_result.all())"
      ],
      "metadata": {
        "id": "AnWGwDmhvqpt",
        "outputId": "4fe90af7-93dd-4171-fd70-fb744765f3d7",
        "colab": {
          "base_uri": "https://localhost:8080/"
        }
      },
      "execution_count": 45,
      "outputs": [
        {
          "output_type": "stream",
          "name": "stdout",
          "text": [
            "I:  (2, 3)\n",
            "[[1 2 3]\n",
            " [4 5 6]]\n",
            "\n",
            "F_flipped:  (2, 2)\n",
            "[[40 30]\n",
            " [20 10]]\n",
            "\n",
            "Result of implemented method: \n",
            " [[ 40. 110. 180.  90.]\n",
            " [180. 370. 470. 210.]\n",
            " [ 80. 140. 170.  60.]]\n",
            "\n",
            "Result using signal processing library\n",
            " [[ 40 110 180  90]\n",
            " [180 370 470 210]\n",
            " [ 80 140 170  60]]\n"
          ]
        }
      ]
    },
    {
      "cell_type": "markdown",
      "metadata": {
        "id": "PTdjk6NHtviA"
      },
      "source": [
        "  # References\n",
        "\n",
        " - The steps explained here are based on Christophoros Nikou's slides on **Filtering in the Frequency Domain (Circulant Matrices and Convolution)** (http://www.cs.uoi.gr/~cnikou/Courses/Digital_Image_Processing/2010-2011/Chapter_04c_Frequency_Filtering_(Circulant_Matrices).ppt)\n",
        " - This post on https://dsp.stackexchange.com/questions/35373/convolution-as-a-doubly-block-circulant-matrix-operating-on-a-vector/35376#35376}{dsp.stackexchange also helped in understanding this algorithm."
      ]
    }
  ],
  "metadata": {
    "kernelspec": {
      "display_name": "Python 3 (ipykernel)",
      "language": "python",
      "name": "python3"
    },
    "language_info": {
      "codemirror_mode": {
        "name": "ipython",
        "version": 3
      },
      "file_extension": ".py",
      "mimetype": "text/x-python",
      "name": "python",
      "nbconvert_exporter": "python",
      "pygments_lexer": "ipython3",
      "version": "3.12.4"
    },
    "colab": {
      "provenance": [],
      "toc_visible": true
    }
  },
  "nbformat": 4,
  "nbformat_minor": 0
}